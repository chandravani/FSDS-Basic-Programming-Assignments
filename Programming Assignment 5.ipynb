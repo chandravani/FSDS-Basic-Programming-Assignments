{
  "nbformat": 4,
  "nbformat_minor": 0,
  "metadata": {
    "colab": {
      "provenance": []
    },
    "kernelspec": {
      "name": "python3",
      "display_name": "Python 3"
    },
    "language_info": {
      "name": "python"
    }
  },
  "cells": [
    {
      "cell_type": "markdown",
      "source": [
        "1.\tWrite a Python Program to Find LCM?"
      ],
      "metadata": {
        "id": "BTcIVkbJVPTY"
      }
    },
    {
      "cell_type": "code",
      "execution_count": null,
      "metadata": {
        "colab": {
          "base_uri": "https://localhost:8080/"
        },
        "id": "qKagRsl1LL3G",
        "outputId": "0d3eab0c-fd9e-406d-b831-e067cadbd65c"
      },
      "outputs": [
        {
          "output_type": "stream",
          "name": "stdout",
          "text": [
            "enter the  first value : 2\n",
            "enter the  second value : 6\n",
            "The L.C.M. is 6\n"
          ]
        }
      ],
      "source": [
        "def compute_lcm(x, y):\n",
        "   if x > y:\n",
        "       greater = x\n",
        "   else:\n",
        "       greater = y\n",
        "\n",
        "   while(True):\n",
        "       if((greater % x == 0) and (greater % y == 0)):\n",
        "           lcm = greater\n",
        "           break\n",
        "       greater= greater+ 1\n",
        "\n",
        "   return lcm\n",
        "\n",
        "num1 = int(input(\"enter the  first value : \"))\n",
        "num2 = int(input(\"enter the  second value : \"))\n",
        "\n",
        "print(\"The L.C.M. is\", compute_lcm(num1, num2))"
      ]
    },
    {
      "cell_type": "markdown",
      "source": [
        "2.\tWrite a Python Program to Find HCF?"
      ],
      "metadata": {
        "id": "FBOBlg5DVRX2"
      }
    },
    {
      "cell_type": "code",
      "source": [
        "def computer_hcf(x, y):\n",
        "\n",
        "# choose the smaller number\n",
        "    if x > y:\n",
        "        smaller = y\n",
        "    else:\n",
        "        smaller = x\n",
        "    for i in range(1, smaller+1):\n",
        "        if((x % i == 0) and (y % i == 0)):\n",
        "            hcf = i \n",
        "    return hcf\n",
        "\n",
        "num1 = int(input(\"enter the value : \")) \n",
        "num2 = int(input(\"enter the value : \"))\n",
        "\n",
        "print(\"The H.C.F. is\", computer_hcf(num1, num2))"
      ],
      "metadata": {
        "colab": {
          "base_uri": "https://localhost:8080/"
        },
        "id": "HufIYRXYLUsh",
        "outputId": "98cb4480-3da5-433d-9fd5-02f1e3af9d31"
      },
      "execution_count": null,
      "outputs": [
        {
          "output_type": "stream",
          "name": "stdout",
          "text": [
            "enter the value : 2\n",
            "enter the value : 6\n",
            "The H.C.F. is 2\n"
          ]
        }
      ]
    },
    {
      "cell_type": "markdown",
      "source": [
        "3.\tWrite a Python Program to Convert Decimal to Binary, Octal and Hexadecimal?"
      ],
      "metadata": {
        "id": "UlzwsGtFVTFr"
      }
    },
    {
      "cell_type": "code",
      "source": [
        "decimal = int(input(\"enter the value of decimal \"))\n",
        "\n",
        "print(\"The decimal value of\", decimal, \"is:\")\n",
        "print( \"In binary = \", bin(decimal))\n",
        "print(\"In octal = \", oct(decimal))\n",
        "print(\"In hexadecimal =\", hex(decimal))\n"
      ],
      "metadata": {
        "colab": {
          "base_uri": "https://localhost:8080/"
        },
        "id": "-z8KZ9m5LoJu",
        "outputId": "3916314f-75ac-45ba-fc75-791ca70f638f"
      },
      "execution_count": null,
      "outputs": [
        {
          "output_type": "stream",
          "name": "stdout",
          "text": [
            "enter the value of decimal 22\n",
            "The decimal value of 22 is:\n",
            "In binary =  0b101011000\n",
            "In octal =  0o530\n",
            "In hexadecimal = 0x158\n"
          ]
        }
      ]
    },
    {
      "cell_type": "markdown",
      "source": [
        "4.\tWrite a Python Program To Find ASCII value of a character?"
      ],
      "metadata": {
        "id": "r5SkKeIxVUzF"
      }
    },
    {
      "cell_type": "code",
      "source": [
        "character = input(\"enter ASCII Value of a character =  \")\n",
        "print(\"The ASCII value of '\" +character + \"' is\", ord(character))  #ord function is used to convert the integer"
      ],
      "metadata": {
        "colab": {
          "base_uri": "https://localhost:8080/"
        },
        "id": "bdamGotTLoMm",
        "outputId": "76c769a9-1c5c-4e12-feab-9f3b76a84902"
      },
      "execution_count": null,
      "outputs": [
        {
          "output_type": "stream",
          "name": "stdout",
          "text": [
            "enter ASCII Value of a character =  S\n",
            "The ASCII value of 'S' is 83\n"
          ]
        }
      ]
    },
    {
      "cell_type": "markdown",
      "source": [
        "5.\tWrite a Python Program to Make a Simple Calculator with 4 basic mathematical operations?"
      ],
      "metadata": {
        "id": "NoZgpc8NVXLq"
      }
    },
    {
      "cell_type": "code",
      "source": [
        "def add(num_1, num_2):           #addition\n",
        "    return num_1 + num_2\n",
        "\n",
        "def subtract(num_1, num_2):      # Subtraction \n",
        "    return num_1 - num_2\n",
        "  \n",
        "def multiply(num_1, num_2):         # Multiplication\n",
        "    return num_1 * num_2\n",
        "\n",
        "def divide(num_1, num_2):            # Division\n",
        "    return num_1 / num_2\n",
        "\n",
        "print(\" using Calculator can calculate the operation  \\n\"\n",
        "\"select the following arithematic operation number \\n\"\n",
        "        \"1. Add \\n\"\n",
        "        \"2. Subtract\\n\"\n",
        "        \"3. Multiply \\n\"\n",
        "       \"4. Divide \\n \")\n",
        "        \n",
        "# Taking the input from the user for which arithmetic operation to perform\n",
        "operation = int(input(\" 1, 2, 3 or 4 :\"))\n",
        "  \n",
        "num_1 = 10\n",
        "num_2 = 20\n",
        "  \n",
        "if operation == 1:\n",
        "    print(\"Addition = \", num_1, \"+\", num_2, \"=\", add(num_1, num_2))\n",
        "  \n",
        "elif operation == 2:\n",
        "    print(\"Subtraction = \", num_1, \"-\", num_2, \"=\", subtract(num_1, num_2))\n",
        "  \n",
        "elif operation == 3:\n",
        "    print(\"Multiply = \", num_1, \"*\", num_2, \"=\",multiply(num_1, num_2))\n",
        "  \n",
        "elif operation == 4:\n",
        "    print(\"Divide = \",num_1, \"/\", num_2, \"=\",divide(num_1, num_2))\n",
        "else:\n",
        "    print(\"This is  InValid input\")"
      ],
      "metadata": {
        "colab": {
          "base_uri": "https://localhost:8080/"
        },
        "id": "diWkWpo_Pubh",
        "outputId": "d6d053ca-1b55-4adb-8d35-a53db4ee312e"
      },
      "execution_count": null,
      "outputs": [
        {
          "output_type": "stream",
          "name": "stdout",
          "text": [
            " using Calculator can calculate the operation  \n",
            "select the following arithematic operation number \n",
            "1. Add \n",
            "2. Subtract\n",
            "3. Multiply \n",
            "4. Divide \n",
            " \n",
            " 1, 2, 3 or 4 :2\n",
            "Subtraction =  10 - 20 = -10\n"
          ]
        }
      ]
    }
  ]
}