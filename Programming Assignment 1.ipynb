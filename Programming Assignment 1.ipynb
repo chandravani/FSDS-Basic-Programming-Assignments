{
  "nbformat": 4,
  "nbformat_minor": 0,
  "metadata": {
    "colab": {
      "provenance": []
    },
    "kernelspec": {
      "name": "python3",
      "display_name": "Python 3"
    },
    "language_info": {
      "name": "python"
    }
  },
  "cells": [
    {
      "cell_type": "markdown",
      "source": [
        "1.\tWrite a Python program to print \"Hello Python\"?"
      ],
      "metadata": {
        "id": "Xd-uj8D-SuDf"
      }
    },
    {
      "cell_type": "code",
      "source": [
        "a = \"Hello Python\"\n",
        "print(a)"
      ],
      "metadata": {
        "colab": {
          "base_uri": "https://localhost:8080/"
        },
        "id": "9M1qZBY8Qj1J",
        "outputId": "aab9d352-e8d3-43bb-975f-ee00af6e7da1"
      },
      "execution_count": null,
      "outputs": [
        {
          "output_type": "stream",
          "name": "stdout",
          "text": [
            "Hello Python\n"
          ]
        }
      ]
    },
    {
      "cell_type": "markdown",
      "source": [
        "2.\tWrite a Python program to do arithmetical operations addition and division.?"
      ],
      "metadata": {
        "id": "WBqDKOshSw_j"
      }
    },
    {
      "cell_type": "code",
      "source": [
        "# Arithmetical operations addtion: using(+) adding two values.\n",
        "A = int(input(\"Enter value of A: \"))\n",
        "B = int(input(\"Enter value of B: \"))\n",
        "\n",
        "print(f\"Sum of A and B is: {A+B}\")"
      ],
      "metadata": {
        "colab": {
          "base_uri": "https://localhost:8080/"
        },
        "id": "wuICbb-_Qmz2",
        "outputId": "0a3876cd-0b0c-466e-f7a4-ce0904300043"
      },
      "execution_count": null,
      "outputs": [
        {
          "output_type": "stream",
          "name": "stdout",
          "text": [
            "Enter value of A: 10\n",
            "Enter value of B: 5\n",
            "Sum of A and B is: 15\n"
          ]
        }
      ]
    },
    {
      "cell_type": "code",
      "source": [
        "# Arithmetical operations division : using(/) division two values.\n",
        "C= int(input(\"Enter value of C: \"))\n",
        "D = int(input(\"Enter value of D: \"))\n",
        "\n",
        "print(f\"division of C and D is: {C/D}\")\n"
      ],
      "metadata": {
        "colab": {
          "base_uri": "https://localhost:8080/"
        },
        "id": "AwP0DmZIQoqZ",
        "outputId": "81dd20c9-0d52-41e4-cb89-82f5f891bcbd"
      },
      "execution_count": null,
      "outputs": [
        {
          "output_type": "stream",
          "name": "stdout",
          "text": [
            "Enter value of C: 10\n",
            "Enter value of D: 5\n",
            "division of C and D is: 2.0\n"
          ]
        }
      ]
    },
    {
      "cell_type": "markdown",
      "source": [
        "3.\tWrite a Python program to find the area of a triangle?"
      ],
      "metadata": {
        "id": "K-xcyXuJS2H9"
      }
    },
    {
      "cell_type": "code",
      "source": [
        "def triangle(base,height):\n",
        "    area= 0.5*base*height\n",
        "    return area\n",
        "base = int(input(\"Enter the value of base:\"))\n",
        "height = int(input(\"Enter the value of height:\"))\n",
        "a=triangle (base,height)\n",
        "print(\"Area of the triangle is: \",a)"
      ],
      "metadata": {
        "colab": {
          "base_uri": "https://localhost:8080/"
        },
        "id": "aZ5l3Rx5TxQw",
        "outputId": "ca74fa5a-4a69-45cc-8bc3-5d96a378e103"
      },
      "execution_count": null,
      "outputs": [
        {
          "output_type": "stream",
          "name": "stdout",
          "text": [
            "Enter the value of base:20\n",
            "Enter the value of height:50\n",
            "Area of the triangle is:  500.0\n"
          ]
        }
      ]
    },
    {
      "cell_type": "markdown",
      "source": [
        "4.\tWrite a Python program to swap two variables?"
      ],
      "metadata": {
        "id": "vSxqcVybS4JF"
      }
    },
    {
      "cell_type": "code",
      "source": [
        "\n",
        "a = int(input(\"Enter value of a : \")) # 1 variable\n",
        "b = int(input(\"Enter value of b: \"))  # 2 variable\n",
        "print(f\"value of a before swapping a: {a}\")\n",
        "print(f\"value of a before swapping b: {b}\")\n",
        "\n",
        "#swapping two variables:\n",
        "tem = a\n",
        "a = b\n",
        "b = tem\n",
        "print(f\"value of a after swapping a: {a}\")\n",
        "print(f\"value of b after swapping b: {b}\")\n"
      ],
      "metadata": {
        "colab": {
          "base_uri": "https://localhost:8080/"
        },
        "id": "wPorgDmsQ30U",
        "outputId": "887775f3-7674-4428-f2a3-302f8eb253f8"
      },
      "execution_count": null,
      "outputs": [
        {
          "output_type": "stream",
          "name": "stdout",
          "text": [
            "Enter value of a : 1\n",
            "Enter value of b: 2\n",
            "value of a before swapping a: 1\n",
            "value of a before swapping b: 2\n",
            "value of a after swapping a: 2\n",
            "value of b after swapping b: 1\n"
          ]
        }
      ]
    },
    {
      "cell_type": "markdown",
      "source": [
        "5.\tWrite a Python program to generate a random number?"
      ],
      "metadata": {
        "id": "fe2mUgNgS6E9"
      }
    },
    {
      "cell_type": "code",
      "source": [
        "#random \n",
        "import random \n",
        "num = random.random()  \n",
        "print(num)"
      ],
      "metadata": {
        "colab": {
          "base_uri": "https://localhost:8080/"
        },
        "id": "-4BdVX2aSPkZ",
        "outputId": "dd4cec29-328f-40ac-bb8f-911b440fb8cb"
      },
      "execution_count": null,
      "outputs": [
        {
          "output_type": "stream",
          "name": "stdout",
          "text": [
            "0.3655568319710528\n"
          ]
        }
      ]
    },
    {
      "cell_type": "code",
      "source": [
        "#random int \n",
        "import random\n",
        "numint = random.randint(1, 10) \n",
        "print(numint)"
      ],
      "metadata": {
        "colab": {
          "base_uri": "https://localhost:8080/"
        },
        "id": "3d49l21sUo6Q",
        "outputId": "e0cec21b-ba1d-404e-ba55-e2f85ffee8a8"
      },
      "execution_count": null,
      "outputs": [
        {
          "output_type": "stream",
          "name": "stdout",
          "text": [
            "7\n"
          ]
        }
      ]
    },
    {
      "cell_type": "code",
      "source": [
        "#random range int\n",
        "import random\n",
        "numrange = random.randrange(1, 10, 2) \n",
        "print(numrange)"
      ],
      "metadata": {
        "colab": {
          "base_uri": "https://localhost:8080/"
        },
        "id": "r_D6DO6fVWF1",
        "outputId": "ed6cc2e0-fe27-45cb-8186-0c1d0c2b53ea"
      },
      "execution_count": null,
      "outputs": [
        {
          "output_type": "stream",
          "name": "stdout",
          "text": [
            "7\n"
          ]
        }
      ]
    }
  ]
}