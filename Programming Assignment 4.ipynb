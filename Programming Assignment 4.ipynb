{
  "nbformat": 4,
  "nbformat_minor": 0,
  "metadata": {
    "colab": {
      "provenance": []
    },
    "kernelspec": {
      "name": "python3",
      "display_name": "Python 3"
    },
    "language_info": {
      "name": "python"
    }
  },
  "cells": [
    {
      "cell_type": "markdown",
      "source": [
        "1.\tWrite a Python Program to Find the Factorial of a Number?"
      ],
      "metadata": {
        "id": "5GjdBHoKVpUF"
      }
    },
    {
      "cell_type": "code",
      "source": [
        "Number = 7\n",
        "fact = 1           \n",
        "for i in range(1, Number+1):\n",
        "  fact = fact*i\n",
        "\n",
        "print(\"the factorial of a number is \", fact)"
      ],
      "metadata": {
        "id": "PRVbBDBylb5u",
        "colab": {
          "base_uri": "https://localhost:8080/"
        },
        "outputId": "03ed5124-0a19-4cdb-efa3-094438afe87a"
      },
      "execution_count": null,
      "outputs": [
        {
          "output_type": "stream",
          "name": "stdout",
          "text": [
            "the factorial of a number is  5040\n"
          ]
        }
      ]
    },
    {
      "cell_type": "markdown",
      "source": [
        "2.\tWrite a Python Program to Display the multiplication Table?"
      ],
      "metadata": {
        "id": "2z1Dd36EVrV-"
      }
    },
    {
      "cell_type": "code",
      "source": [
        "for i in range(1, 11):\n",
        "  print(f\" 2 x {i} = {2*i}\")"
      ],
      "metadata": {
        "id": "19Y9ZtsylgNX",
        "colab": {
          "base_uri": "https://localhost:8080/"
        },
        "outputId": "d6276d9e-4a41-4fd1-8cfa-1f32db724ba4"
      },
      "execution_count": null,
      "outputs": [
        {
          "output_type": "stream",
          "name": "stdout",
          "text": [
            " 2 x 1 = 2\n",
            " 2 x 2 = 4\n",
            " 2 x 3 = 6\n",
            " 2 x 4 = 8\n",
            " 2 x 5 = 10\n",
            " 2 x 6 = 12\n",
            " 2 x 7 = 14\n",
            " 2 x 8 = 16\n",
            " 2 x 9 = 18\n",
            " 2 x 10 = 20\n"
          ]
        }
      ]
    },
    {
      "cell_type": "markdown",
      "source": [
        "3.\tWrite a Python Program to Print the Fibonacci sequence?"
      ],
      "metadata": {
        "id": "AWWT9PVBVtdH"
      }
    },
    {
      "cell_type": "code",
      "source": [
        "s = int(input(\"enter a number : \"))\n",
        "a = 0\n",
        "b = 1\n",
        "for i in range(s):\n",
        "  print(a)\n",
        "  temp = a\n",
        "  a = b\n",
        "  b = temp+b"
      ],
      "metadata": {
        "colab": {
          "base_uri": "https://localhost:8080/"
        },
        "id": "bqS3hUIpilr0",
        "outputId": "ab3827f5-b2dd-4b55-e75b-3d100c3f26ad"
      },
      "execution_count": null,
      "outputs": [
        {
          "output_type": "stream",
          "name": "stdout",
          "text": [
            "enter a number : 7\n",
            "0\n",
            "1\n",
            "1\n",
            "2\n",
            "3\n",
            "5\n",
            "8\n"
          ]
        }
      ]
    },
    {
      "cell_type": "markdown",
      "source": [
        "4.\tWrite a Python Program to Check Armstrong Number?"
      ],
      "metadata": {
        "id": "NwIZk4HLVv0F"
      }
    },
    {
      "cell_type": "code",
      "source": [
        "#  An Armstrong number of 3 digits, the sum of cubes of each digit is equal to the number itself. \n",
        "\n",
        "n = int(input(\"Enter a number: \"))\n",
        "sum = 0\n",
        "temp = n\n",
        "while temp > 0:\n",
        "   digit = temp % 10\n",
        "   sum = sum + digit ** 3  #power digit \n",
        "   temp // = 10  \n",
        "if n == sum:\n",
        "   print(n ,\"is an Armstrong number\")\n",
        "else:\n",
        "   print(n ,\"is not an Armstrong number\")"
      ],
      "metadata": {
        "colab": {
          "base_uri": "https://localhost:8080/"
        },
        "id": "ujbPBd8glhaI",
        "outputId": "f35c08a0-ffea-4fbb-9f76-d7699fe9af7a"
      },
      "execution_count": null,
      "outputs": [
        {
          "output_type": "stream",
          "name": "stdout",
          "text": [
            "Enter a number: 153\n",
            "153 is an Armstrong number\n"
          ]
        }
      ]
    },
    {
      "cell_type": "markdown",
      "source": [
        "5.\tWrite a Python Program to Find Armstrong Number in an Interval?"
      ],
      "metadata": {
        "id": "uAIhecKCVyMl"
      }
    },
    {
      "cell_type": "code",
      "source": [
        "lower = int(input(\"Enter lower range: \"))\n",
        "upper = int(input(\"Enter upper range: \"))\n",
        "  \n",
        "for num in range(lower,upper + 1):\n",
        "   sum = 0\n",
        "   temp = num\n",
        "   # sum of cube\n",
        "   while temp > 0:\n",
        "       digit = temp % 10\n",
        "       sum = sum + digit ** 3\n",
        "       temp //= 10\n",
        " \n",
        "   if num == sum:\n",
        "       print(num,\"is a Armstrong number\")"
      ],
      "metadata": {
        "colab": {
          "base_uri": "https://localhost:8080/"
        },
        "id": "CYUSx-zPsVth",
        "outputId": "7004834a-0c47-4048-c978-f410a99e952a"
      },
      "execution_count": null,
      "outputs": [
        {
          "output_type": "stream",
          "name": "stdout",
          "text": [
            "Enter lower range: 100\n",
            "Enter upper range: 500\n",
            "153 is a Armstrong number\n",
            "370 is a Armstrong number\n",
            "371 is a Armstrong number\n",
            "407 is a Armstrong number\n"
          ]
        }
      ]
    },
    {
      "cell_type": "markdown",
      "source": [
        "6. Write a Python Program to Find the Sum of Natural Numbers?"
      ],
      "metadata": {
        "id": "I8VoqvNPV0tZ"
      }
    },
    {
      "cell_type": "code",
      "source": [
        "try:\n",
        "    n=int(input(\"Enter the value of n: \"))\n",
        "    sum=0\n",
        "    for i in range(1,n+1):\n",
        "        sum=sum+i\n",
        "    print(sum)\n",
        "except Exception as e:\n",
        "    print(e)"
      ],
      "metadata": {
        "colab": {
          "base_uri": "https://localhost:8080/"
        },
        "id": "1Ps-90TPYQCs",
        "outputId": "ffd9b32e-8e44-430e-8061-1a2d755fd64b"
      },
      "execution_count": null,
      "outputs": [
        {
          "output_type": "stream",
          "name": "stdout",
          "text": [
            "Enter the value of n: 16\n",
            "136\n"
          ]
        }
      ]
    }
  ]
}