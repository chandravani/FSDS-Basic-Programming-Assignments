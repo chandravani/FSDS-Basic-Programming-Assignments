{
  "metadata": {
    "colab": {
      "provenance": []
    },
    "kernelspec": {
      "name": "python",
      "display_name": "Python (Pyodide)",
      "language": "python"
    },
    "language_info": {
      "codemirror_mode": {
        "name": "python",
        "version": 3
      },
      "file_extension": ".py",
      "mimetype": "text/x-python",
      "name": "python",
      "nbconvert_exporter": "python",
      "pygments_lexer": "ipython3",
      "version": "3.8"
    }
  },
  "nbformat_minor": 4,
  "nbformat": 4,
  "cells": [
    {
      "cell_type": "code",
      "source": "1.\tWrite a Python program to convert kilometers to miles?",
      "metadata": {
        "id": "cdCj-CDtYhrj"
      },
      "execution_count": null,
      "outputs": []
    },
    {
      "cell_type": "code",
      "source": "#convert kilometers to miles \nkilometers = int(input(\" kilomerters  value : \"))\nmiles = (kilometers*0.621371)    # 1kilometers = 0.621371miles\nprint(f\"kilometers  is {kilometers}\")\nprint(f\"kilometer Convert into miles  {miles}\")  ",
      "metadata": {},
      "execution_count": null,
      "outputs": []
    },
    {
      "cell_type": "code",
      "source": "2.\tWrite a Python program to convert Celsius to Fahrenheit?",
      "metadata": {
        "id": "e_3rJDF7oEjr"
      },
      "execution_count": null,
      "outputs": []
    },
    {
      "cell_type": "code",
      "source": "Celsius = int(input(\"celsius value is  \"))\nFahrenheit = (Celsius*1.8)+32\nprint(f\"Degree of Celsius is {Celsius}\")\nprint(f\"Degree of Fahrenheit is {Fahrenheit}\")\n",
      "metadata": {
        "colab": {
          "base_uri": "https://localhost:8080/"
        },
        "id": "yL0lvpzxoEZ2",
        "outputId": "3fcf93be-d9ea-4faa-d56f-ef6c416dc6bf"
      },
      "execution_count": null,
      "outputs": [
        {
          "output_type": "stream",
          "name": "stdout",
          "text": "celsius value is  10\n\nDegree of Celsius is 10\n\nDegree of Fahrenheit is 50.0\n"
        }
      ]
    },
    {
      "cell_type": "code",
      "source": "3.\tWrite a Python program to display calendar?",
      "metadata": {
        "id": "Vn18Hz2XoEP5"
      },
      "execution_count": null,
      "outputs": []
    },
    {
      "cell_type": "code",
      "source": "#To Display calendar:\nimport calendar\nyear = 2023\nmonth = 3\n\nprint(calendar.month(year, month))",
      "metadata": {
        "colab": {
          "base_uri": "https://localhost:8080/"
        },
        "id": "0UJf1U9hzqDs",
        "outputId": "8d259cb7-a518-40f2-c61f-59368d7eb49e"
      },
      "execution_count": null,
      "outputs": [
        {
          "output_type": "stream",
          "name": "stdout",
          "text": "     March 2023\n\nMo Tu We Th Fr Sa Su\n\n       1  2  3  4  5\n\n 6  7  8  9 10 11 12\n\n13 14 15 16 17 18 19\n\n20 21 22 23 24 25 26\n\n27 28 29 30 31\n\n\n"
        }
      ]
    },
    {
      "cell_type": "code",
      "source": "4.\tWrite a Python program to solve quadratic equation?",
      "metadata": {
        "id": "uS3b1pHS0jFi"
      },
      "execution_count": null,
      "outputs": []
    },
    {
      "cell_type": "code",
      "source": "# Solve the quadratic equation ax**2 + bx + c = 0\n\n# import complex math module\nimport cmath\n\na = 1\nb = 5\nc = 6\n\n# calculate the discriminant\nd = (b**2) - (4*a*c)\n\n# find two solutions\nsol1 = (-b-cmath.sqrt(d))/(2*a)\nsol2 = (-b+cmath.sqrt(d))/(2*a)\n\nprint('The solution are {0} and {1}'.format(sol1,sol2))",
      "metadata": {
        "id": "1KVTolaYzqPN",
        "trusted": true
      },
      "execution_count": 1,
      "outputs": [
        {
          "name": "stdout",
          "text": "The solution are (-3+0j) and (-2+0j)\n",
          "output_type": "stream"
        }
      ]
    },
    {
      "cell_type": "code",
      "source": "5.\tWrite a Python program to swap two variables without temp variable?",
      "metadata": {
        "id": "thF9YqB7nT4-"
      },
      "execution_count": null,
      "outputs": []
    },
    {
      "cell_type": "code",
      "source": "a = int(input(\"Enter value of a : \")) # 1 variable\nb = int(input(\"Enter value of b: \"))  # 2 variable\nprint(f\"value of a before swapping a: {a}\")\nprint(f\"value of a before swapping b: {b}\")\n\n#swapping two variables without using temp variable :\na, b = b, a\nprint(f\"value of a after swapping a: {a}\")\nprint(f\"value of b after swapping b: {b}\")\n\n",
      "metadata": {
        "colab": {
          "base_uri": "https://localhost:8080/"
        },
        "id": "0zToiHQ0nXeF",
        "outputId": "1de75030-8fe3-419b-a4dd-167506ec42df"
      },
      "execution_count": null,
      "outputs": [
        {
          "output_type": "stream",
          "name": "stdout",
          "text": "Enter value of a : 10\n\nEnter value of b: 20\n\nvalue of a before swapping a: 10\n\nvalue of a before swapping b: 20\n\nvalue of a after swapping a: 20\n\nvalue of b after swapping b: 10\n"
        }
      ]
    }
  ]
}